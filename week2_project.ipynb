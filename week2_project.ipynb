{
  "cells": [
    {
      "attachments": {},
      "cell_type": "markdown",
      "id": "3DMGUidRloTV",
      "metadata": {
        "id": "3DMGUidRloTV"
      },
      "source": [
        "> 1. DUPLICATE THIS COLAB TO START WORKING ON IT. Using File > Save a copy to drive.\n",
        "> 2. SET THE \"General Access\" OF THE COPIED NOTEBOOK TO \"Anyone with the link\" BY CLICKING ON \"Share\" TO ENABLE SHARING WITH YOUR PEERS FOR REVIEW.\n",
        "\n",
        "\n",
        "### This project is from the *Causal Inference for Data Science course on CoRise.* Learn more about the course [here](https://corise.com/course/causal-inference-for-data-science).\n",
        "\n",
        "\n",
        "\n",
        "---\n",
        "\n",
        "\n",
        "\n"
      ]
    },
    {
      "attachments": {},
      "cell_type": "markdown",
      "id": "b25666ca",
      "metadata": {
        "id": "b25666ca"
      },
      "source": [
        "# Week 2 Project: Applying Instrumental Variables and Regression Discontinuity\n",
        "***\n",
        "\n",
        "Welcome to the second project for Causal Inference for Data Science!\n",
        "\n",
        "\n",
        "## Scenario\n",
        "\n",
        "It is your first day after the big executive meeting at Tongass where you presented the results of your linear regression analysis. It was well received. The CEO even gave you a fist bump! (Per our experience this can actually happen if your CEO is cool.)\n",
        "\n",
        "Now the VP of In Store Sales wants to use your results to push for expanding the number of stores, but the VP of Onlines Sales is pushing back, saying the results are just correlational! (This VP took a stats class in their MBA program.)\n",
        "\n",
        "The VP of In Store Sales comes to your desk and asks: \"Isn't there some data science voodoo we can do to get better results and prove in store sales boost customer value?\"\n",
        "\n",
        "You reply \"Definitely! I am a causal inference wizard. But getting a straight answer will require me to run some experiments and possibly offer discounts to change customer behavior.\"\n",
        "\n",
        "\"My entire team is at your disposal. If we can show this, I will have the evidence I need to double store openings and turbo charge our growth.\", the VP of In Store Sales replies.\n",
        "\n",
        "You say, \"Wonderful. I'll get right to it!\"\n",
        "\n",
        "\n",
        "## Project notes\n",
        "\n",
        "* We will work with the same data set as last week and use it to tackle instrumental variables and regression discontinuity through different experiments.\n",
        "\n",
        "* As before we attempt to strike a balance between providing concrete steps to follow and making room for exploration. That said, we encourage you to explore: The best way to become a causal inference expert is to attack a single problem from multiple angles to see how different modeling choices affect an analysis."
      ]
    },
    {
      "cell_type": "code",
      "execution_count": null,
      "id": "143e4fa4",
      "metadata": {
        "id": "143e4fa4"
      },
      "outputs": [],
      "source": [
        "#!pip install stargazer\n",
        "#!pip install sklearn\n",
        "#!pip install rdrobust"
      ]
    },
    {
      "cell_type": "code",
      "execution_count": 14,
      "id": "t25wLGwylwds",
      "metadata": {
        "id": "t25wLGwylwds"
      },
      "outputs": [],
      "source": [
        "# loading necessary packages\n",
        "%matplotlib inline\n",
        "\n",
        "import numpy as np\n",
        "import pandas as pd\n",
        "import datetime as dt\n",
        "np.random.seed(44)\n",
        "\n",
        "import matplotlib.pyplot as plt\n",
        "import seaborn as sns\n",
        "sns.set(font_scale=1.5)\n",
        "\n",
        "import statsmodels.formula.api as smf\n",
        "from statsmodels.sandbox.regression.gmm import IV2SLS\n",
        "from stargazer.stargazer import Stargazer\n",
        "from rdrobust import rdrobust,rdbwselect,rdplot"
      ]
    },
    {
      "attachments": {},
      "cell_type": "markdown",
      "id": "fa5bf162",
      "metadata": {
        "id": "fa5bf162"
      },
      "source": [
        "<br/>\n",
        "\n",
        "## I. Load the data\n",
        "***\n",
        "\n",
        "As before the data set is in the file called `tongass_transactions.csv`.\n",
        "\n",
        "Note: The data set is at the **transaction level**, not the customer level. Any given customer can (and likely does) have multiple transactions. Some measures and fields are at the customer level, while others are at the transaction level. It will be up to you to manipulate this data set so that it can be used for analysis. The question we're interested in is fundamentally about *customers, not transactions,* which means we'll likely need to aggregate the data to the customer level to make it useful.\n",
        "\n",
        "Below, we define the fields that are relevant for this week:\n",
        "- `customer_id`: the unique identifier for a given customer\n",
        "- `age`: the age of the customer\n",
        "- `income`: the income of the customer \n",
        "- `state`: the customer's state of residence\n",
        "- `received_re`*: 1 if customer received an email in a prior AB test or 0 if customer received no email\n",
        "- `received_in_store_re`*: 1 for treatment email in  AB test that offered a free gift in store with purchase and 0 for control email with no gift\n",
        "- `distance`: the distance (in miles) from a customer's home to the nearest Tongass store\n",
        "- `tx_order`: whether the transaction is the customer's first, second, third... etc.\n",
        "- `amount`: the dollar value of the transaction\n",
        "- `tx_date`: the date of the transaction\n",
        "- `is_credit`: whether the transaction involved a credit card or a different payment method (1 if credit card, 0 if other)\n",
        "- `in_store`: whether the transaction happened in a physical store (1 if yes, 0 if no and happened on tongass.com)\n",
        "\n",
        "*Note `received_re` and `received_in_store_re` are defined at the customer level even if not all transactions by the customer occurred within the test window as specified below."
      ]
    },
    {
      "cell_type": "code",
      "execution_count": 19,
      "id": "32524d3d",
      "metadata": {
        "id": "32524d3d"
      },
      "outputs": [
        {
          "data": {
            "text/html": [
              "<div>\n",
              "<style scoped>\n",
              "    .dataframe tbody tr th:only-of-type {\n",
              "        vertical-align: middle;\n",
              "    }\n",
              "\n",
              "    .dataframe tbody tr th {\n",
              "        vertical-align: top;\n",
              "    }\n",
              "\n",
              "    .dataframe thead th {\n",
              "        text-align: right;\n",
              "    }\n",
              "</style>\n",
              "<table border=\"1\" class=\"dataframe\">\n",
              "  <thead>\n",
              "    <tr style=\"text-align: right;\">\n",
              "      <th></th>\n",
              "      <th>customer_id</th>\n",
              "      <th>age</th>\n",
              "      <th>income</th>\n",
              "      <th>state</th>\n",
              "      <th>received_re</th>\n",
              "      <th>received_in_store_re</th>\n",
              "      <th>distance</th>\n",
              "      <th>index</th>\n",
              "      <th>tx_order</th>\n",
              "      <th>amount</th>\n",
              "      <th>in_store</th>\n",
              "      <th>tx_date</th>\n",
              "      <th>is_credit</th>\n",
              "      <th>is_bonus</th>\n",
              "    </tr>\n",
              "  </thead>\n",
              "  <tbody>\n",
              "    <tr>\n",
              "      <th>0</th>\n",
              "      <td>0</td>\n",
              "      <td>65</td>\n",
              "      <td>122753</td>\n",
              "      <td>ND</td>\n",
              "      <td>0</td>\n",
              "      <td>0</td>\n",
              "      <td>6.765402</td>\n",
              "      <td>0</td>\n",
              "      <td>0.0</td>\n",
              "      <td>61.964375</td>\n",
              "      <td>0.0</td>\n",
              "      <td>2020-12-31</td>\n",
              "      <td>0.0</td>\n",
              "      <td>0.0</td>\n",
              "    </tr>\n",
              "    <tr>\n",
              "      <th>1</th>\n",
              "      <td>0</td>\n",
              "      <td>65</td>\n",
              "      <td>122753</td>\n",
              "      <td>ND</td>\n",
              "      <td>0</td>\n",
              "      <td>0</td>\n",
              "      <td>6.765402</td>\n",
              "      <td>1</td>\n",
              "      <td>1.0</td>\n",
              "      <td>41.057234</td>\n",
              "      <td>0.0</td>\n",
              "      <td>2021-03-31</td>\n",
              "      <td>0.0</td>\n",
              "      <td>0.0</td>\n",
              "    </tr>\n",
              "    <tr>\n",
              "      <th>2</th>\n",
              "      <td>0</td>\n",
              "      <td>65</td>\n",
              "      <td>122753</td>\n",
              "      <td>ND</td>\n",
              "      <td>0</td>\n",
              "      <td>0</td>\n",
              "      <td>6.765402</td>\n",
              "      <td>2</td>\n",
              "      <td>2.0</td>\n",
              "      <td>71.752128</td>\n",
              "      <td>1.0</td>\n",
              "      <td>2021-06-30</td>\n",
              "      <td>1.0</td>\n",
              "      <td>0.0</td>\n",
              "    </tr>\n",
              "    <tr>\n",
              "      <th>3</th>\n",
              "      <td>0</td>\n",
              "      <td>65</td>\n",
              "      <td>122753</td>\n",
              "      <td>ND</td>\n",
              "      <td>0</td>\n",
              "      <td>0</td>\n",
              "      <td>6.765402</td>\n",
              "      <td>3</td>\n",
              "      <td>3.0</td>\n",
              "      <td>93.129942</td>\n",
              "      <td>1.0</td>\n",
              "      <td>2022-10-31</td>\n",
              "      <td>1.0</td>\n",
              "      <td>0.0</td>\n",
              "    </tr>\n",
              "    <tr>\n",
              "      <th>4</th>\n",
              "      <td>1</td>\n",
              "      <td>79</td>\n",
              "      <td>32977</td>\n",
              "      <td>DC</td>\n",
              "      <td>0</td>\n",
              "      <td>0</td>\n",
              "      <td>3.146723</td>\n",
              "      <td>0</td>\n",
              "      <td>0.0</td>\n",
              "      <td>61.334116</td>\n",
              "      <td>0.0</td>\n",
              "      <td>2020-01-31</td>\n",
              "      <td>0.0</td>\n",
              "      <td>0.0</td>\n",
              "    </tr>\n",
              "  </tbody>\n",
              "</table>\n",
              "</div>"
            ],
            "text/plain": [
              "   customer_id  age  income state  received_re  received_in_store_re  \\\n",
              "0            0   65  122753    ND            0                     0   \n",
              "1            0   65  122753    ND            0                     0   \n",
              "2            0   65  122753    ND            0                     0   \n",
              "3            0   65  122753    ND            0                     0   \n",
              "4            1   79   32977    DC            0                     0   \n",
              "\n",
              "   distance  index  tx_order     amount  in_store     tx_date  is_credit  \\\n",
              "0  6.765402      0       0.0  61.964375       0.0  2020-12-31        0.0   \n",
              "1  6.765402      1       1.0  41.057234       0.0  2021-03-31        0.0   \n",
              "2  6.765402      2       2.0  71.752128       1.0  2021-06-30        1.0   \n",
              "3  6.765402      3       3.0  93.129942       1.0  2022-10-31        1.0   \n",
              "4  3.146723      0       0.0  61.334116       0.0  2020-01-31        0.0   \n",
              "\n",
              "   is_bonus  \n",
              "0       0.0  \n",
              "1       0.0  \n",
              "2       0.0  \n",
              "3       0.0  \n",
              "4       0.0  "
            ]
          },
          "execution_count": 19,
          "metadata": {},
          "output_type": "execute_result"
        }
      ],
      "source": [
        "# TODO: read in the data to an object called df\n",
        "url = 'https://raw.githubusercontent.com/dsaber/co-rise-causal-inference/main/tongass_transactions.csv'\n",
        "df = pd.read_csv(url)\n",
        "df.head()"
      ]
    },
    {
      "cell_type": "code",
      "execution_count": 20,
      "id": "264f5ca2",
      "metadata": {},
      "outputs": [
        {
          "name": "stdout",
          "output_type": "stream",
          "text": [
            "received_re\n",
            "0    113913\n",
            "1     37624\n",
            "Name: count, dtype: int64\n",
            "received_in_store_re\n",
            "0    132475\n",
            "1     19062\n",
            "Name: count, dtype: int64\n"
          ]
        }
      ],
      "source": [
        "print(df['received_re'].value_counts())\n",
        "print(df['received_in_store_re'].value_counts())"
      ]
    },
    {
      "attachments": {},
      "cell_type": "markdown",
      "id": "80f656a4",
      "metadata": {
        "id": "80f656a4"
      },
      "source": [
        "<br/>\n",
        "\n",
        "## II. Instrumental Variables\n",
        "***\n",
        "\n",
        "<br/>\n",
        "\n",
        "We first tackle answering our causal question of interest using instrumental variables.\n",
        "\n",
        "After talking to the in store shopping team about past experiments, you discover there was a previous AB test that tried to boost in store visits. The team wanted to assess the impact of providing a free gift with an in store purchase on foot traffic for customers living close to a store. The test was successful in boosting in store visits.\n",
        "\n",
        "Aha, this seems like a good candidate for a randomized encouragement trial! It is likely that the free gift nudged people to visit the store, allowing us to use it to estimate the impact of in store shopping on customer value.\n",
        "\n",
        "### A. Checking the Assumptions\n",
        "\n",
        "Remember, our causal question of interest is estimating the impact of in store visits (treatment T) on customer value (outcome Y). We want to find an instrument Z that we can use to estimate this causal effect.\n",
        "\n",
        "In a causal diagram it looks like this where in store vists T causes customer value Y but both are impacted by various confounders X. Our instrument Z allows us to estimate the causal effect cleanly without worrying about confouders:\n",
        "\n",
        "                                      Z -- T -- Y\n",
        "                                            \\ X /\n",
        "\n",
        "A good IV must satisfy three properties:\n",
        "\n",
        "*   Random assignment\n",
        "*   Strong first stage\n",
        "*   Exclusion restriction\n",
        "\n",
        "A candidate for our instrument Z is the email treatment (`received_in_store_re`) sent to customers in the past AB test.\n",
        "\n",
        "We will test the strong first stage assumption later, but take some time to ask yourself:\n",
        "\n",
        "(1) Is this instrument we are using random of any other confounders? Why or why not?\n",
        "\n",
        "(2) Does this instrument plausibly impact the outcome (customer value) only through its impact on the treatment (in store visits)? Why or why not?"
      ]
    },
    {
      "attachments": {},
      "cell_type": "markdown",
      "id": "85di1VQempN8",
      "metadata": {
        "id": "85di1VQempN8"
      },
      "source": [
        "### B. Checking the Data\n",
        "\n",
        "Now that we are convinced the assumptions for a valid instrument are satisfied, let's investigate and prepare the data for analysis.\n",
        "\n",
        "The email AB test that we want to use as a randomized encouragement trial ran from November, 2020 to January, 2021. On November 1 the email went out to customers, and the free gift promotion expired on February 1, 2021.\n",
        "\n",
        "Let's start by counting the number of customers in the AB test (`received_re = 1`) and comparing them to those that were not (`received_re = 0`) on age, income, distance from a store, and credit card purchases.\n",
        "\n",
        "How similar are they? Will this impact the generalization of our IV analysis?"
      ]
    },
    {
      "cell_type": "code",
      "execution_count": 21,
      "id": "86928f7f",
      "metadata": {
        "id": "86928f7f"
      },
      "outputs": [
        {
          "data": {
            "text/html": [
              "<div>\n",
              "<style scoped>\n",
              "    .dataframe tbody tr th:only-of-type {\n",
              "        vertical-align: middle;\n",
              "    }\n",
              "\n",
              "    .dataframe tbody tr th {\n",
              "        vertical-align: top;\n",
              "    }\n",
              "\n",
              "    .dataframe thead th {\n",
              "        text-align: right;\n",
              "    }\n",
              "</style>\n",
              "<table border=\"1\" class=\"dataframe\">\n",
              "  <thead>\n",
              "    <tr style=\"text-align: right;\">\n",
              "      <th></th>\n",
              "      <th>age</th>\n",
              "      <th>distance</th>\n",
              "      <th>income</th>\n",
              "      <th>tx_order</th>\n",
              "    </tr>\n",
              "    <tr>\n",
              "      <th>received_re</th>\n",
              "      <th></th>\n",
              "      <th></th>\n",
              "      <th></th>\n",
              "      <th></th>\n",
              "    </tr>\n",
              "  </thead>\n",
              "  <tbody>\n",
              "    <tr>\n",
              "      <th>0</th>\n",
              "      <td>48.480713</td>\n",
              "      <td>7.928915</td>\n",
              "      <td>138418.483001</td>\n",
              "      <td>5.060814</td>\n",
              "    </tr>\n",
              "    <tr>\n",
              "      <th>1</th>\n",
              "      <td>48.827236</td>\n",
              "      <td>7.897631</td>\n",
              "      <td>137482.322321</td>\n",
              "      <td>5.063497</td>\n",
              "    </tr>\n",
              "  </tbody>\n",
              "</table>\n",
              "</div>"
            ],
            "text/plain": [
              "                   age  distance         income  tx_order\n",
              "received_re                                              \n",
              "0            48.480713  7.928915  138418.483001  5.060814\n",
              "1            48.827236  7.897631  137482.322321  5.063497"
            ]
          },
          "execution_count": 21,
          "metadata": {},
          "output_type": "execute_result"
        }
      ],
      "source": [
        "# TODO: compare those in the AB test to those not in the test\n",
        "\n",
        "df_agg = df.groupby('customer_id').agg({\n",
        "    'customer_id': 'count',\n",
        "    'distance': 'first',\n",
        "    'age': 'first',\n",
        "    'income': 'first',\n",
        "    'tx_order': 'max',\n",
        "    'received_re': 'max'\n",
        "})\n",
        "\n",
        "\n",
        "\n",
        "df_agg.groupby('received_re').agg({\n",
        "    'age': 'mean',\n",
        "    'distance': 'mean',\n",
        "    'income': 'mean',\n",
        "    'tx_order': 'mean'\n",
        "})"
      ]
    },
    {
      "attachments": {},
      "cell_type": "markdown",
      "id": "O5ZeeDOnu-LO",
      "metadata": {
        "id": "O5ZeeDOnu-LO"
      },
      "source": [
        "### C. Preparing the Data\n",
        "\n",
        "Now let's prepare our IV dataset. There are a few choices we need to make in aggregating and subsetting down to the relevant rows.\n",
        "\n",
        "*   Do we want to limit the data to transactions during the randomized encouragement trial / AB test?\n",
        "*   Does it makes sense to include future transactions after the AB test ended to incorporate future value? Could this violate the exclusion restriction assumption?\n",
        "*   What controls should we include in our data set if any?\n",
        "*   How do we ensure the controls don't cause bias in our model? (Hint: controls should only be defined using data prior to the date that the treatment occurred.)\n",
        "*   Is customer data prior to the test such as their prior transactions or prior in store visits valuable?\n",
        "*   How should we define in store visits (treatment) and customer value (outcome) here? Do we want to use the count of in store visits, if the customer had an in store visit, or something else?\n",
        "\n",
        "Based on what you think is most sensible, prepare a dataframe called `df_iv` with the data you will use for IV regression."
      ]
    },
    {
      "cell_type": "code",
      "execution_count": 22,
      "id": "FriOOyYxrid6",
      "metadata": {
        "id": "FriOOyYxrid6"
      },
      "outputs": [
        {
          "data": {
            "text/html": [
              "<div>\n",
              "<style scoped>\n",
              "    .dataframe tbody tr th:only-of-type {\n",
              "        vertical-align: middle;\n",
              "    }\n",
              "\n",
              "    .dataframe tbody tr th {\n",
              "        vertical-align: top;\n",
              "    }\n",
              "\n",
              "    .dataframe thead th {\n",
              "        text-align: right;\n",
              "    }\n",
              "</style>\n",
              "<table border=\"1\" class=\"dataframe\">\n",
              "  <thead>\n",
              "    <tr style=\"text-align: right;\">\n",
              "      <th></th>\n",
              "      <th>amount</th>\n",
              "      <th>in_store</th>\n",
              "      <th>received_in_store_re</th>\n",
              "      <th>distance</th>\n",
              "      <th>age</th>\n",
              "      <th>income</th>\n",
              "      <th>tx_order</th>\n",
              "      <th>received_re</th>\n",
              "    </tr>\n",
              "    <tr>\n",
              "      <th>customer_id</th>\n",
              "      <th></th>\n",
              "      <th></th>\n",
              "      <th></th>\n",
              "      <th></th>\n",
              "      <th></th>\n",
              "      <th></th>\n",
              "      <th></th>\n",
              "      <th></th>\n",
              "    </tr>\n",
              "  </thead>\n",
              "  <tbody>\n",
              "    <tr>\n",
              "      <th>3</th>\n",
              "      <td>60.877329</td>\n",
              "      <td>1.0</td>\n",
              "      <td>1</td>\n",
              "      <td>5.121281</td>\n",
              "      <td>46</td>\n",
              "      <td>34358</td>\n",
              "      <td>1.0</td>\n",
              "      <td>1</td>\n",
              "    </tr>\n",
              "    <tr>\n",
              "      <th>12</th>\n",
              "      <td>62.462724</td>\n",
              "      <td>1.0</td>\n",
              "      <td>1</td>\n",
              "      <td>2.694887</td>\n",
              "      <td>22</td>\n",
              "      <td>240578</td>\n",
              "      <td>1.0</td>\n",
              "      <td>1</td>\n",
              "    </tr>\n",
              "    <tr>\n",
              "      <th>38</th>\n",
              "      <td>152.549536</td>\n",
              "      <td>1.0</td>\n",
              "      <td>1</td>\n",
              "      <td>0.314758</td>\n",
              "      <td>65</td>\n",
              "      <td>65973</td>\n",
              "      <td>3.0</td>\n",
              "      <td>1</td>\n",
              "    </tr>\n",
              "    <tr>\n",
              "      <th>69</th>\n",
              "      <td>77.310662</td>\n",
              "      <td>1.0</td>\n",
              "      <td>1</td>\n",
              "      <td>5.543748</td>\n",
              "      <td>68</td>\n",
              "      <td>51427</td>\n",
              "      <td>4.0</td>\n",
              "      <td>1</td>\n",
              "    </tr>\n",
              "    <tr>\n",
              "      <th>78</th>\n",
              "      <td>95.984923</td>\n",
              "      <td>1.0</td>\n",
              "      <td>0</td>\n",
              "      <td>8.239850</td>\n",
              "      <td>40</td>\n",
              "      <td>219687</td>\n",
              "      <td>0.0</td>\n",
              "      <td>1</td>\n",
              "    </tr>\n",
              "  </tbody>\n",
              "</table>\n",
              "</div>"
            ],
            "text/plain": [
              "                 amount  in_store  received_in_store_re  distance  age  \\\n",
              "customer_id                                                              \n",
              "3             60.877329       1.0                     1  5.121281   46   \n",
              "12            62.462724       1.0                     1  2.694887   22   \n",
              "38           152.549536       1.0                     1  0.314758   65   \n",
              "69            77.310662       1.0                     1  5.543748   68   \n",
              "78            95.984923       1.0                     0  8.239850   40   \n",
              "\n",
              "             income  tx_order  received_re  \n",
              "customer_id                                 \n",
              "3             34358       1.0            1  \n",
              "12           240578       1.0            1  \n",
              "38            65973       3.0            1  \n",
              "69            51427       4.0            1  \n",
              "78           219687       0.0            1  "
            ]
          },
          "execution_count": 22,
          "metadata": {},
          "output_type": "execute_result"
        }
      ],
      "source": [
        "# date range covered by data set\n",
        "date_range = pd.date_range(start='2020-01-01', end='2022-12-31', freq='M')\n",
        "\n",
        "# time period covered by randomized encouragement trial\n",
        "randomized_encouragement_dates = [d.strftime('%Y-%m-%d') for d in date_range[10:13]]\n",
        "\n",
        "# TODO: write code to create df_iv\n",
        "df_iv = df.copy()\n",
        "# Ensure there are columns for customer_value_Y, in_store_visits_T, and received_in_store_re_Z along with various controls like age and income\n",
        "# Also ensure that we are filtering for those who did received an email in a prior AB test and they are in the randomized encouragement trial\n",
        "df_iv = df[(df['received_re']==1) & (df['tx_date'].isin(randomized_encouragement_dates))]\n",
        "\n",
        "df_iv = df_iv.groupby('customer_id').agg({\n",
        "    'amount': 'sum',\n",
        "    'in_store': 'max',\n",
        "    'received_in_store_re': 'max',\n",
        "    'distance': 'first',\n",
        "    'age': 'first',\n",
        "    'income': 'first',\n",
        "    'tx_order': 'max',\n",
        "    'received_re': 'first'\n",
        "})\n",
        "\n",
        "df_iv.head()"
      ]
    },
    {
      "attachments": {},
      "cell_type": "markdown",
      "id": "vsw4wKBexTSE",
      "metadata": {
        "id": "vsw4wKBexTSE"
      },
      "source": [
        "Use `df_iv` to check the compliance between the treatment (`in_store_visits_T`) and randomized encouragement (`received_in_store_re_Z`) i.e. how often people receiving the treatment email actually shopped in store. This is some indication of first stage strength, but we will check it more formally below."
      ]
    },
    {
      "cell_type": "code",
      "execution_count": 24,
      "id": "c14eb71f",
      "metadata": {
        "id": "c14eb71f"
      },
      "outputs": [
        {
          "data": {
            "text/html": [
              "<div>\n",
              "<style scoped>\n",
              "    .dataframe tbody tr th:only-of-type {\n",
              "        vertical-align: middle;\n",
              "    }\n",
              "\n",
              "    .dataframe tbody tr th {\n",
              "        vertical-align: top;\n",
              "    }\n",
              "\n",
              "    .dataframe thead th {\n",
              "        text-align: right;\n",
              "    }\n",
              "</style>\n",
              "<table border=\"1\" class=\"dataframe\">\n",
              "  <thead>\n",
              "    <tr style=\"text-align: right;\">\n",
              "      <th>in_store</th>\n",
              "      <th>0.0</th>\n",
              "      <th>1.0</th>\n",
              "    </tr>\n",
              "    <tr>\n",
              "      <th>received_in_store_re</th>\n",
              "      <th></th>\n",
              "      <th></th>\n",
              "    </tr>\n",
              "  </thead>\n",
              "  <tbody>\n",
              "    <tr>\n",
              "      <th>0</th>\n",
              "      <td>0.156734</td>\n",
              "      <td>0.346362</td>\n",
              "    </tr>\n",
              "    <tr>\n",
              "      <th>1</th>\n",
              "      <td>0.013932</td>\n",
              "      <td>0.482972</td>\n",
              "    </tr>\n",
              "  </tbody>\n",
              "</table>\n",
              "</div>"
            ],
            "text/plain": [
              "in_store                   0.0       1.0\n",
              "received_in_store_re                    \n",
              "0                     0.156734  0.346362\n",
              "1                     0.013932  0.482972"
            ]
          },
          "execution_count": 24,
          "metadata": {},
          "output_type": "execute_result"
        }
      ],
      "source": [
        "# TODO: check for compliance (pd.crosstab may be useful)\n",
        "\n",
        "# The compliance rate should be above 60%\n",
        "\n",
        "pd.crosstab(df_iv['received_in_store_re'], df_iv['in_store'],normalize='all')"
      ]
    },
    {
      "attachments": {},
      "cell_type": "markdown",
      "id": "b3ddbdee",
      "metadata": {},
      "source": [
        "Compliance rate is about ~ 65% here which is good."
      ]
    },
    {
      "attachments": {},
      "cell_type": "markdown",
      "id": "Im5iq2dzxSYE",
      "metadata": {
        "id": "Im5iq2dzxSYE"
      },
      "source": [
        "### C. Check the First Stage Strength\n",
        "\n",
        "Using ols, run a first stage regression to check if the instrument is a strong instrument or not. Is the instrument still valid?"
      ]
    },
    {
      "cell_type": "code",
      "execution_count": 25,
      "id": "7aaaea90",
      "metadata": {},
      "outputs": [
        {
          "data": {
            "text/html": [
              "<div>\n",
              "<style scoped>\n",
              "    .dataframe tbody tr th:only-of-type {\n",
              "        vertical-align: middle;\n",
              "    }\n",
              "\n",
              "    .dataframe tbody tr th {\n",
              "        vertical-align: top;\n",
              "    }\n",
              "\n",
              "    .dataframe thead th {\n",
              "        text-align: right;\n",
              "    }\n",
              "</style>\n",
              "<table border=\"1\" class=\"dataframe\">\n",
              "  <thead>\n",
              "    <tr style=\"text-align: right;\">\n",
              "      <th></th>\n",
              "      <th>amount</th>\n",
              "      <th>in_store</th>\n",
              "      <th>received_in_store_re</th>\n",
              "      <th>distance</th>\n",
              "      <th>age</th>\n",
              "      <th>income</th>\n",
              "      <th>tx_order</th>\n",
              "      <th>received_re</th>\n",
              "    </tr>\n",
              "    <tr>\n",
              "      <th>customer_id</th>\n",
              "      <th></th>\n",
              "      <th></th>\n",
              "      <th></th>\n",
              "      <th></th>\n",
              "      <th></th>\n",
              "      <th></th>\n",
              "      <th></th>\n",
              "      <th></th>\n",
              "    </tr>\n",
              "  </thead>\n",
              "  <tbody>\n",
              "    <tr>\n",
              "      <th>3</th>\n",
              "      <td>60.877329</td>\n",
              "      <td>1.0</td>\n",
              "      <td>1</td>\n",
              "      <td>5.121281</td>\n",
              "      <td>46</td>\n",
              "      <td>34358</td>\n",
              "      <td>1.0</td>\n",
              "      <td>1</td>\n",
              "    </tr>\n",
              "    <tr>\n",
              "      <th>12</th>\n",
              "      <td>62.462724</td>\n",
              "      <td>1.0</td>\n",
              "      <td>1</td>\n",
              "      <td>2.694887</td>\n",
              "      <td>22</td>\n",
              "      <td>240578</td>\n",
              "      <td>1.0</td>\n",
              "      <td>1</td>\n",
              "    </tr>\n",
              "    <tr>\n",
              "      <th>38</th>\n",
              "      <td>152.549536</td>\n",
              "      <td>1.0</td>\n",
              "      <td>1</td>\n",
              "      <td>0.314758</td>\n",
              "      <td>65</td>\n",
              "      <td>65973</td>\n",
              "      <td>3.0</td>\n",
              "      <td>1</td>\n",
              "    </tr>\n",
              "    <tr>\n",
              "      <th>69</th>\n",
              "      <td>77.310662</td>\n",
              "      <td>1.0</td>\n",
              "      <td>1</td>\n",
              "      <td>5.543748</td>\n",
              "      <td>68</td>\n",
              "      <td>51427</td>\n",
              "      <td>4.0</td>\n",
              "      <td>1</td>\n",
              "    </tr>\n",
              "    <tr>\n",
              "      <th>78</th>\n",
              "      <td>95.984923</td>\n",
              "      <td>1.0</td>\n",
              "      <td>0</td>\n",
              "      <td>8.239850</td>\n",
              "      <td>40</td>\n",
              "      <td>219687</td>\n",
              "      <td>0.0</td>\n",
              "      <td>1</td>\n",
              "    </tr>\n",
              "    <tr>\n",
              "      <th>87</th>\n",
              "      <td>118.805658</td>\n",
              "      <td>1.0</td>\n",
              "      <td>0</td>\n",
              "      <td>0.745286</td>\n",
              "      <td>75</td>\n",
              "      <td>100282</td>\n",
              "      <td>4.0</td>\n",
              "      <td>1</td>\n",
              "    </tr>\n",
              "    <tr>\n",
              "      <th>90</th>\n",
              "      <td>124.268056</td>\n",
              "      <td>1.0</td>\n",
              "      <td>0</td>\n",
              "      <td>14.067761</td>\n",
              "      <td>77</td>\n",
              "      <td>243890</td>\n",
              "      <td>1.0</td>\n",
              "      <td>1</td>\n",
              "    </tr>\n",
              "    <tr>\n",
              "      <th>93</th>\n",
              "      <td>195.225713</td>\n",
              "      <td>1.0</td>\n",
              "      <td>1</td>\n",
              "      <td>12.548307</td>\n",
              "      <td>65</td>\n",
              "      <td>74397</td>\n",
              "      <td>3.0</td>\n",
              "      <td>1</td>\n",
              "    </tr>\n",
              "    <tr>\n",
              "      <th>102</th>\n",
              "      <td>229.705994</td>\n",
              "      <td>1.0</td>\n",
              "      <td>0</td>\n",
              "      <td>6.348304</td>\n",
              "      <td>61</td>\n",
              "      <td>159008</td>\n",
              "      <td>6.0</td>\n",
              "      <td>1</td>\n",
              "    </tr>\n",
              "    <tr>\n",
              "      <th>104</th>\n",
              "      <td>72.995392</td>\n",
              "      <td>1.0</td>\n",
              "      <td>1</td>\n",
              "      <td>1.322589</td>\n",
              "      <td>55</td>\n",
              "      <td>176953</td>\n",
              "      <td>0.0</td>\n",
              "      <td>1</td>\n",
              "    </tr>\n",
              "  </tbody>\n",
              "</table>\n",
              "</div>"
            ],
            "text/plain": [
              "                 amount  in_store  received_in_store_re   distance  age  \\\n",
              "customer_id                                                               \n",
              "3             60.877329       1.0                     1   5.121281   46   \n",
              "12            62.462724       1.0                     1   2.694887   22   \n",
              "38           152.549536       1.0                     1   0.314758   65   \n",
              "69            77.310662       1.0                     1   5.543748   68   \n",
              "78            95.984923       1.0                     0   8.239850   40   \n",
              "87           118.805658       1.0                     0   0.745286   75   \n",
              "90           124.268056       1.0                     0  14.067761   77   \n",
              "93           195.225713       1.0                     1  12.548307   65   \n",
              "102          229.705994       1.0                     0   6.348304   61   \n",
              "104           72.995392       1.0                     1   1.322589   55   \n",
              "\n",
              "             income  tx_order  received_re  \n",
              "customer_id                                 \n",
              "3             34358       1.0            1  \n",
              "12           240578       1.0            1  \n",
              "38            65973       3.0            1  \n",
              "69            51427       4.0            1  \n",
              "78           219687       0.0            1  \n",
              "87           100282       4.0            1  \n",
              "90           243890       1.0            1  \n",
              "93            74397       3.0            1  \n",
              "102          159008       6.0            1  \n",
              "104          176953       0.0            1  "
            ]
          },
          "execution_count": 25,
          "metadata": {},
          "output_type": "execute_result"
        }
      ],
      "source": [
        "df_iv.head(10)"
      ]
    },
    {
      "cell_type": "code",
      "execution_count": 26,
      "id": "e83126fd",
      "metadata": {
        "id": "e83126fd"
      },
      "outputs": [
        {
          "data": {
            "text/html": [
              "<table class=\"simpletable\">\n",
              "<caption>OLS Regression Results</caption>\n",
              "<tr>\n",
              "  <th>Dep. Variable:</th>        <td>in_store</td>     <th>  R-squared:         </th> <td>   0.207</td> \n",
              "</tr>\n",
              "<tr>\n",
              "  <th>Model:</th>                   <td>OLS</td>       <th>  Adj. R-squared:    </th> <td>   0.205</td> \n",
              "</tr>\n",
              "<tr>\n",
              "  <th>Method:</th>             <td>Least Squares</td>  <th>  F-statistic:       </th> <td>   134.4</td> \n",
              "</tr>\n",
              "<tr>\n",
              "  <th>Date:</th>             <td>Wed, 21 Jun 2023</td> <th>  Prob (F-statistic):</th> <td>6.33e-127</td>\n",
              "</tr>\n",
              "<tr>\n",
              "  <th>Time:</th>                 <td>09:39:59</td>     <th>  Log-Likelihood:    </th> <td> -841.07</td> \n",
              "</tr>\n",
              "<tr>\n",
              "  <th>No. Observations:</th>      <td>  2584</td>      <th>  AIC:               </th> <td>   1694.</td> \n",
              "</tr>\n",
              "<tr>\n",
              "  <th>Df Residuals:</th>          <td>  2578</td>      <th>  BIC:               </th> <td>   1729.</td> \n",
              "</tr>\n",
              "<tr>\n",
              "  <th>Df Model:</th>              <td>     5</td>      <th>                     </th>     <td> </td>    \n",
              "</tr>\n",
              "<tr>\n",
              "  <th>Covariance Type:</th>      <td>nonrobust</td>    <th>                     </th>     <td> </td>    \n",
              "</tr>\n",
              "</table>\n",
              "<table class=\"simpletable\">\n",
              "<tr>\n",
              "            <td></td>              <th>coef</th>     <th>std err</th>      <th>t</th>      <th>P>|t|</th>  <th>[0.025</th>    <th>0.975]</th>  \n",
              "</tr>\n",
              "<tr>\n",
              "  <th>Intercept</th>            <td>    0.6804</td> <td>    0.028</td> <td>   24.449</td> <td> 0.000</td> <td>    0.626</td> <td>    0.735</td>\n",
              "</tr>\n",
              "<tr>\n",
              "  <th>received_in_store_re</th> <td>    0.2773</td> <td>    0.013</td> <td>   20.997</td> <td> 0.000</td> <td>    0.251</td> <td>    0.303</td>\n",
              "</tr>\n",
              "<tr>\n",
              "  <th>distance</th>             <td>   -0.0120</td> <td>    0.001</td> <td>  -10.792</td> <td> 0.000</td> <td>   -0.014</td> <td>   -0.010</td>\n",
              "</tr>\n",
              "<tr>\n",
              "  <th>age</th>                  <td> 7.269e-05</td> <td>    0.000</td> <td>    0.196</td> <td> 0.845</td> <td>   -0.001</td> <td>    0.001</td>\n",
              "</tr>\n",
              "<tr>\n",
              "  <th>income</th>               <td> 1.274e-07</td> <td> 1.01e-07</td> <td>    1.266</td> <td> 0.206</td> <td>   -7e-08</td> <td> 3.25e-07</td>\n",
              "</tr>\n",
              "<tr>\n",
              "  <th>tx_order</th>             <td>    0.0352</td> <td>    0.004</td> <td>    9.709</td> <td> 0.000</td> <td>    0.028</td> <td>    0.042</td>\n",
              "</tr>\n",
              "</table>\n",
              "<table class=\"simpletable\">\n",
              "<tr>\n",
              "  <th>Omnibus:</th>       <td>364.789</td> <th>  Durbin-Watson:     </th> <td>   1.986</td> \n",
              "</tr>\n",
              "<tr>\n",
              "  <th>Prob(Omnibus):</th> <td> 0.000</td>  <th>  Jarque-Bera (JB):  </th> <td> 535.256</td> \n",
              "</tr>\n",
              "<tr>\n",
              "  <th>Skew:</th>          <td>-1.104</td>  <th>  Prob(JB):          </th> <td>5.90e-117</td>\n",
              "</tr>\n",
              "<tr>\n",
              "  <th>Kurtosis:</th>      <td> 3.307</td>  <th>  Cond. No.          </th> <td>6.47e+05</td> \n",
              "</tr>\n",
              "</table><br/><br/>Notes:<br/>[1] Standard Errors assume that the covariance matrix of the errors is correctly specified.<br/>[2] The condition number is large, 6.47e+05. This might indicate that there are<br/>strong multicollinearity or other numerical problems."
            ],
            "text/plain": [
              "<class 'statsmodels.iolib.summary.Summary'>\n",
              "\"\"\"\n",
              "                            OLS Regression Results                            \n",
              "==============================================================================\n",
              "Dep. Variable:               in_store   R-squared:                       0.207\n",
              "Model:                            OLS   Adj. R-squared:                  0.205\n",
              "Method:                 Least Squares   F-statistic:                     134.4\n",
              "Date:                Wed, 21 Jun 2023   Prob (F-statistic):          6.33e-127\n",
              "Time:                        09:39:59   Log-Likelihood:                -841.07\n",
              "No. Observations:                2584   AIC:                             1694.\n",
              "Df Residuals:                    2578   BIC:                             1729.\n",
              "Df Model:                           5                                         \n",
              "Covariance Type:            nonrobust                                         \n",
              "========================================================================================\n",
              "                           coef    std err          t      P>|t|      [0.025      0.975]\n",
              "----------------------------------------------------------------------------------------\n",
              "Intercept                0.6804      0.028     24.449      0.000       0.626       0.735\n",
              "received_in_store_re     0.2773      0.013     20.997      0.000       0.251       0.303\n",
              "distance                -0.0120      0.001    -10.792      0.000      -0.014      -0.010\n",
              "age                   7.269e-05      0.000      0.196      0.845      -0.001       0.001\n",
              "income                1.274e-07   1.01e-07      1.266      0.206      -7e-08    3.25e-07\n",
              "tx_order                 0.0352      0.004      9.709      0.000       0.028       0.042\n",
              "==============================================================================\n",
              "Omnibus:                      364.789   Durbin-Watson:                   1.986\n",
              "Prob(Omnibus):                  0.000   Jarque-Bera (JB):              535.256\n",
              "Skew:                          -1.104   Prob(JB):                    5.90e-117\n",
              "Kurtosis:                       3.307   Cond. No.                     6.47e+05\n",
              "==============================================================================\n",
              "\n",
              "Notes:\n",
              "[1] Standard Errors assume that the covariance matrix of the errors is correctly specified.\n",
              "[2] The condition number is large, 6.47e+05. This might indicate that there are\n",
              "strong multicollinearity or other numerical problems.\n",
              "\"\"\""
            ]
          },
          "execution_count": 26,
          "metadata": {},
          "output_type": "execute_result"
        }
      ],
      "source": [
        "# TODO: check first stage strength\n",
        "\n",
        "# Your F Statistic in this first stage regression should be very large i.e. above 100.\n",
        "\n",
        "first_stage_reg = smf.ols(formula = 'in_store ~ received_in_store_re + distance + age + income + tx_order', data = df_iv)\n",
        "first_stage_reg_results = first_stage_reg.fit()\n",
        "first_stage_reg_results.summary()\n"
      ]
    },
    {
      "attachments": {},
      "cell_type": "markdown",
      "id": "57658c39",
      "metadata": {},
      "source": [
        "F statistics is ~134 which is good enough."
      ]
    },
    {
      "attachments": {},
      "cell_type": "markdown",
      "id": "bf780ea9",
      "metadata": {
        "id": "bf780ea9"
      },
      "source": [
        "### D. Run TSLS to Estimate Our Causal Effect\n",
        "\n",
        "Now that we have our data and are confident that our instrument is strong and satisfies the necessary assumptions, run two stage least squares with and without control variables.\n",
        "\n",
        "Note that due to limitations in the statsmodels version of IV regression, we have to manually include an intercept before fitting our model and one hot encode any categorical variables.\n",
        "\n",
        "Present your results in a stargazer table that cleanly shows the estimated causal effect of in store purchases."
      ]
    },
    {
      "cell_type": "code",
      "execution_count": 27,
      "id": "35514585",
      "metadata": {},
      "outputs": [
        {
          "data": {
            "text/html": [
              "<div>\n",
              "<style scoped>\n",
              "    .dataframe tbody tr th:only-of-type {\n",
              "        vertical-align: middle;\n",
              "    }\n",
              "\n",
              "    .dataframe tbody tr th {\n",
              "        vertical-align: top;\n",
              "    }\n",
              "\n",
              "    .dataframe thead th {\n",
              "        text-align: right;\n",
              "    }\n",
              "</style>\n",
              "<table border=\"1\" class=\"dataframe\">\n",
              "  <thead>\n",
              "    <tr style=\"text-align: right;\">\n",
              "      <th></th>\n",
              "      <th>amount</th>\n",
              "      <th>in_store</th>\n",
              "      <th>received_in_store_re</th>\n",
              "      <th>distance</th>\n",
              "      <th>age</th>\n",
              "      <th>income</th>\n",
              "      <th>tx_order</th>\n",
              "      <th>received_re</th>\n",
              "    </tr>\n",
              "    <tr>\n",
              "      <th>customer_id</th>\n",
              "      <th></th>\n",
              "      <th></th>\n",
              "      <th></th>\n",
              "      <th></th>\n",
              "      <th></th>\n",
              "      <th></th>\n",
              "      <th></th>\n",
              "      <th></th>\n",
              "    </tr>\n",
              "  </thead>\n",
              "  <tbody>\n",
              "    <tr>\n",
              "      <th>3</th>\n",
              "      <td>60.877329</td>\n",
              "      <td>1.0</td>\n",
              "      <td>1</td>\n",
              "      <td>5.121281</td>\n",
              "      <td>46</td>\n",
              "      <td>34358</td>\n",
              "      <td>1.0</td>\n",
              "      <td>1</td>\n",
              "    </tr>\n",
              "    <tr>\n",
              "      <th>12</th>\n",
              "      <td>62.462724</td>\n",
              "      <td>1.0</td>\n",
              "      <td>1</td>\n",
              "      <td>2.694887</td>\n",
              "      <td>22</td>\n",
              "      <td>240578</td>\n",
              "      <td>1.0</td>\n",
              "      <td>1</td>\n",
              "    </tr>\n",
              "    <tr>\n",
              "      <th>38</th>\n",
              "      <td>152.549536</td>\n",
              "      <td>1.0</td>\n",
              "      <td>1</td>\n",
              "      <td>0.314758</td>\n",
              "      <td>65</td>\n",
              "      <td>65973</td>\n",
              "      <td>3.0</td>\n",
              "      <td>1</td>\n",
              "    </tr>\n",
              "    <tr>\n",
              "      <th>69</th>\n",
              "      <td>77.310662</td>\n",
              "      <td>1.0</td>\n",
              "      <td>1</td>\n",
              "      <td>5.543748</td>\n",
              "      <td>68</td>\n",
              "      <td>51427</td>\n",
              "      <td>4.0</td>\n",
              "      <td>1</td>\n",
              "    </tr>\n",
              "    <tr>\n",
              "      <th>78</th>\n",
              "      <td>95.984923</td>\n",
              "      <td>1.0</td>\n",
              "      <td>0</td>\n",
              "      <td>8.239850</td>\n",
              "      <td>40</td>\n",
              "      <td>219687</td>\n",
              "      <td>0.0</td>\n",
              "      <td>1</td>\n",
              "    </tr>\n",
              "  </tbody>\n",
              "</table>\n",
              "</div>"
            ],
            "text/plain": [
              "                 amount  in_store  received_in_store_re  distance  age  \\\n",
              "customer_id                                                              \n",
              "3             60.877329       1.0                     1  5.121281   46   \n",
              "12            62.462724       1.0                     1  2.694887   22   \n",
              "38           152.549536       1.0                     1  0.314758   65   \n",
              "69            77.310662       1.0                     1  5.543748   68   \n",
              "78            95.984923       1.0                     0  8.239850   40   \n",
              "\n",
              "             income  tx_order  received_re  \n",
              "customer_id                                 \n",
              "3             34358       1.0            1  \n",
              "12           240578       1.0            1  \n",
              "38            65973       3.0            1  \n",
              "69            51427       4.0            1  \n",
              "78           219687       0.0            1  "
            ]
          },
          "execution_count": 27,
          "metadata": {},
          "output_type": "execute_result"
        }
      ],
      "source": [
        "df_iv.head()"
      ]
    },
    {
      "cell_type": "code",
      "execution_count": 28,
      "id": "9270dc33",
      "metadata": {
        "id": "9270dc33"
      },
      "outputs": [],
      "source": [
        "df_iv['Constant'] = 1\n",
        "\n",
        "\n",
        "# TODO: run model without controls\n",
        "model2 = IV2SLS(df_iv[['amount']], df_iv[['Constant','in_store']], df_iv[['Constant','received_in_store_re']]).fit()\n",
        "\n",
        "# TODO: run model with controls\n",
        "model3 = IV2SLS(df_iv[['amount']], df_iv[['Constant','distance','age','income','tx_order','in_store']], df_iv[['Constant','distance','age','income','tx_order','received_in_store_re']]).fit()"
      ]
    },
    {
      "cell_type": "code",
      "execution_count": 29,
      "id": "9Js8JmNm8QBI",
      "metadata": {
        "id": "9Js8JmNm8QBI"
      },
      "outputs": [
        {
          "data": {
            "text/html": [
              "<table style=\"text-align:center\"><tr><td colspan=\"3\" style=\"border-bottom: 1px solid black\"></td></tr><tr><td style=\"text-align:left\"></td><td colspan=\"2\"><em>Dependent variable:amount</em></td></tr><tr><td style=\"text-align:left\"></td><tr><td></td><td colspan=\"1\">IV w/o Controls</td><td colspan=\"1\">IV w/ Controls</td></tr><tr><td style=\"text-align:left\"></td><td>(1)</td><td>(2)</td></tr><tr><td colspan=\"3\" style=\"border-bottom: 1px solid black\"></td></tr><tr><td style=\"text-align:left\">in_store</td><td>29.320<sup>***</sup></td><td>28.564<sup>***</sup></td></tr><tr><td style=\"text-align:left\"></td><td>(6.532)</td><td>(5.816)</td></tr><td colspan=\"3\" style=\"border-bottom: 1px solid black\"></td></tr><tr><td style=\"text-align: left\">Observations</td><td>2,584</td><td>2,584</td></tr><tr><td style=\"text-align: left\">R<sup>2</sup></td><td>0.083</td><td>0.306</td></tr><tr><td style=\"text-align: left\">Adjusted R<sup>2</sup></td><td>0.083</td><td>0.305</td></tr><tr><td style=\"text-align: left\">Residual Std. Error</td><td>47.070 (df=2582)</td><td>40.964 (df=2578)</td></tr><tr><td style=\"text-align: left\">F Statistic</td><td>20.145<sup>***</sup> (df=1; 2582)</td><td>199.593<sup>***</sup> (df=5; 2578)</td></tr><tr><td colspan=\"3\" style=\"border-bottom: 1px solid black\"></td></tr><tr><td style=\"text-align: left\">Note:</td>\n",
              " <td colspan=\"2\" style=\"text-align: right\">\n",
              "  <sup>*</sup>p&lt;0.1;\n",
              "  <sup>**</sup>p&lt;0.05;\n",
              "  <sup>***</sup>p&lt;0.01\n",
              " </td></tr></table>"
            ],
            "text/plain": [
              "<stargazer.stargazer.Stargazer at 0x28a139e10>"
            ]
          },
          "execution_count": 29,
          "metadata": {},
          "output_type": "execute_result"
        }
      ],
      "source": [
        "# TODO: use stargazer to display clean output\n",
        "\n",
        "stargazer = Stargazer([model2, model3])\n",
        "stargazer.covariate_order(['in_store'])\n",
        "stargazer.custom_columns(['IV w/o Controls', 'IV w/ Controls'], [1, 1])\n",
        "stargazer\n",
        "\n",
        "# If you define the treatment as has an in store transaction, your estimated causal effect should be around 28\n",
        "# If you define the treatment as count of in store transactions, your estimated causal effect should be around 21\n",
        "# If you define the treatment as percent of transactions in store, your estimated causal effect should be around 25"
      ]
    },
    {
      "attachments": {},
      "cell_type": "markdown",
      "id": "ddfcf8a9",
      "metadata": {
        "id": "ddfcf8a9"
      },
      "source": [
        "What do you conclude from your instrumental variables analysis? How confident are you in the impact of in store shopping on customer value? (Think about any caveats to the IV analysis such as its generalizability.)"
      ]
    },
    {
      "attachments": {},
      "cell_type": "markdown",
      "id": "b2a966fd",
      "metadata": {
        "id": "b2a966fd"
      },
      "source": [
        "## III. Regression Discontinuity\n",
        "***\n",
        "<br/>\n",
        "\n",
        "Concerned that the IV results were on a select part of the user base, you want to run another experiment to assess the value of in store shopping.\n",
        "\n",
        "After talking to the in store shopping team again, you discover that on October 31, 2020 as part of a Halloween sale, the team provided a coupon to customers living within 15 miles of a store. The coupon was valid till the end of 2021.\n",
        "\n",
        "Customers living farther than 15 miles unfortunately got no coupon. This was done to save on mailing costs, and the marketing team manager picked 15 cause they are a huge Celtics fan and love Tom Heinsohn (look up \"Tommy points\" if you are curious).\n",
        "\n",
        "Fantastic! This sounds like a great discontinuity point for a regression discontinuity design.\n",
        "\n",
        "If you are having trouble visualizing the problem here, draw a causal diagram that defines the outcome, treatment, and discontinuity variable.\n",
        "\n",
        "## A. Preparing the Data\n",
        "\n",
        "Let's create a dataframe called `df_rdd` that limits our sample to the relevant rows. Remember we again need to think carefully about how to aggregate the data to the customer level, how to define our treatment (in store visits), and consider the window we want to use for the RDD.\n",
        "\n",
        "In this case our discotinuity variable is `distance` with a threshold at 15. How far below and above this discontinuity point should we go for our analysis?"
      ]
    },
    {
      "cell_type": "code",
      "execution_count": 30,
      "id": "f3f94d4d",
      "metadata": {},
      "outputs": [
        {
          "data": {
            "text/plain": [
              "'2020-10-31'"
            ]
          },
          "execution_count": 30,
          "metadata": {},
          "output_type": "execute_result"
        }
      ],
      "source": [
        "date_range[9].strftime('%Y-%m-%d')"
      ]
    },
    {
      "cell_type": "code",
      "execution_count": 31,
      "id": "b0eeb0f8",
      "metadata": {},
      "outputs": [
        {
          "name": "stdout",
          "output_type": "stream",
          "text": [
            "43.30972946746904\n",
            "7.337794592343135e-05\n"
          ]
        }
      ],
      "source": [
        "print(df_agg['distance'].max())\n",
        "print(df_agg['distance'].min())"
      ]
    },
    {
      "cell_type": "code",
      "execution_count": 32,
      "id": "3ee90edd",
      "metadata": {},
      "outputs": [
        {
          "data": {
            "image/png": "[encoded data removed]",
            "text/plain": [
              "<Figure size 432x288 with 1 Axes>"
            ]
          },
          "metadata": {},
          "output_type": "display_data"
        }
      ],
      "source": [
        "plt.hist(df_agg['distance'], bins=20)\n",
        "plt.show()"
      ]
    },
    {
      "cell_type": "code",
      "execution_count": 33,
      "id": "IuNm-LTr-zB8",
      "metadata": {
        "id": "IuNm-LTr-zB8"
      },
      "outputs": [
        {
          "data": {
            "text/html": [
              "<div>\n",
              "<style scoped>\n",
              "    .dataframe tbody tr th:only-of-type {\n",
              "        vertical-align: middle;\n",
              "    }\n",
              "\n",
              "    .dataframe tbody tr th {\n",
              "        vertical-align: top;\n",
              "    }\n",
              "\n",
              "    .dataframe thead th {\n",
              "        text-align: right;\n",
              "    }\n",
              "</style>\n",
              "<table border=\"1\" class=\"dataframe\">\n",
              "  <thead>\n",
              "    <tr style=\"text-align: right;\">\n",
              "      <th></th>\n",
              "      <th>customer_id</th>\n",
              "      <th>age</th>\n",
              "      <th>income</th>\n",
              "      <th>distance</th>\n",
              "      <th>distance_discontinuity</th>\n",
              "      <th>tx_order</th>\n",
              "      <th>amount</th>\n",
              "      <th>in_store</th>\n",
              "    </tr>\n",
              "  </thead>\n",
              "  <tbody>\n",
              "    <tr>\n",
              "      <th>0</th>\n",
              "      <td>151</td>\n",
              "      <td>46</td>\n",
              "      <td>117132</td>\n",
              "      <td>11.862044</td>\n",
              "      <td>1</td>\n",
              "      <td>2.0</td>\n",
              "      <td>75.583341</td>\n",
              "      <td>1.0</td>\n",
              "    </tr>\n",
              "    <tr>\n",
              "      <th>1</th>\n",
              "      <td>167</td>\n",
              "      <td>18</td>\n",
              "      <td>51219</td>\n",
              "      <td>14.080104</td>\n",
              "      <td>1</td>\n",
              "      <td>6.0</td>\n",
              "      <td>80.645338</td>\n",
              "      <td>1.0</td>\n",
              "    </tr>\n",
              "    <tr>\n",
              "      <th>2</th>\n",
              "      <td>326</td>\n",
              "      <td>28</td>\n",
              "      <td>156992</td>\n",
              "      <td>15.980915</td>\n",
              "      <td>0</td>\n",
              "      <td>0.0</td>\n",
              "      <td>92.432780</td>\n",
              "      <td>0.0</td>\n",
              "    </tr>\n",
              "    <tr>\n",
              "      <th>3</th>\n",
              "      <td>364</td>\n",
              "      <td>77</td>\n",
              "      <td>142171</td>\n",
              "      <td>13.324512</td>\n",
              "      <td>1</td>\n",
              "      <td>2.0</td>\n",
              "      <td>73.368649</td>\n",
              "      <td>0.0</td>\n",
              "    </tr>\n",
              "    <tr>\n",
              "      <th>4</th>\n",
              "      <td>442</td>\n",
              "      <td>72</td>\n",
              "      <td>138872</td>\n",
              "      <td>13.237335</td>\n",
              "      <td>1</td>\n",
              "      <td>0.0</td>\n",
              "      <td>72.147775</td>\n",
              "      <td>1.0</td>\n",
              "    </tr>\n",
              "  </tbody>\n",
              "</table>\n",
              "</div>"
            ],
            "text/plain": [
              "   customer_id  age  income   distance  distance_discontinuity  tx_order  \\\n",
              "0          151   46  117132  11.862044                       1       2.0   \n",
              "1          167   18   51219  14.080104                       1       6.0   \n",
              "2          326   28  156992  15.980915                       0       0.0   \n",
              "3          364   77  142171  13.324512                       1       2.0   \n",
              "4          442   72  138872  13.237335                       1       0.0   \n",
              "\n",
              "      amount  in_store  \n",
              "0  75.583341       1.0  \n",
              "1  80.645338       1.0  \n",
              "2  92.432780       0.0  \n",
              "3  73.368649       0.0  \n",
              "4  72.147775       1.0  "
            ]
          },
          "execution_count": 33,
          "metadata": {},
          "output_type": "execute_result"
        }
      ],
      "source": [
        "# time period covered by RDD\n",
        "discount_date = [date_range[9].strftime('%Y-%m-%d')]\n",
        "\n",
        "# TODO: pick a threshold_window above and below the discontinuity point to use\n",
        "threshold = 15\n",
        "threshold_window = 4 # Change to appropriate value\n",
        "\n",
        "df_rdd = df.copy()\n",
        "df_rdd = df_rdd[(df_rdd['distance'] >= (threshold - threshold_window)) & (df_rdd['distance'] <= (threshold + threshold_window))]\n",
        "\n",
        "\n",
        "# TODO: Filter transactions to those occuring during the RDD\n",
        "df_rdd = df_rdd[(df_rdd['tx_date'].isin(discount_date)) & (df_rdd['received_re']==1)]\n",
        "df_rdd['distance_discontinuity'] = np.where(df_rdd['distance']<=15, 1, 0)\n",
        "\n",
        "# TODO: Aggregate dataframe to the customer level and define customer_value_Y, in_store_visits_T, distance_discontinuity, and other controls like age\n",
        "\n",
        "df_rdd = df_rdd.groupby('customer_id').agg({'age':'first',\n",
        "                                   'income':'first',\n",
        "                                   'distance':'first',\n",
        "                                  'distance_discontinuity':'first',\n",
        "                                   'tx_order':'max',\n",
        "                                   'amount':'sum',\n",
        "                                   'in_store':'max'})\n",
        "df_rdd = df_rdd.reset_index()\n",
        "df_rdd.head()"
      ]
    },
    {
      "attachments": {},
      "cell_type": "markdown",
      "id": "cd55d6ea",
      "metadata": {
        "id": "cd55d6ea"
      },
      "source": [
        "## A. Check if the Discontinuity is Fuzzy or Sharp\n",
        "\n",
        "Let's check if the discontinuity point is fuzzy or sharp by checking for compliance with our desired treatment."
      ]
    },
    {
      "cell_type": "code",
      "execution_count": 34,
      "id": "--IeY-mXDyyr",
      "metadata": {
        "id": "--IeY-mXDyyr"
      },
      "outputs": [
        {
          "data": {
            "text/html": [
              "<div>\n",
              "<style scoped>\n",
              "    .dataframe tbody tr th:only-of-type {\n",
              "        vertical-align: middle;\n",
              "    }\n",
              "\n",
              "    .dataframe tbody tr th {\n",
              "        vertical-align: top;\n",
              "    }\n",
              "\n",
              "    .dataframe thead th {\n",
              "        text-align: right;\n",
              "    }\n",
              "</style>\n",
              "<table border=\"1\" class=\"dataframe\">\n",
              "  <thead>\n",
              "    <tr style=\"text-align: right;\">\n",
              "      <th>in_store</th>\n",
              "      <th>0.0</th>\n",
              "      <th>1.0</th>\n",
              "    </tr>\n",
              "    <tr>\n",
              "      <th>distance_discontinuity</th>\n",
              "      <th></th>\n",
              "      <th></th>\n",
              "    </tr>\n",
              "  </thead>\n",
              "  <tbody>\n",
              "    <tr>\n",
              "      <th>0</th>\n",
              "      <td>0.200000</td>\n",
              "      <td>0.120930</td>\n",
              "    </tr>\n",
              "    <tr>\n",
              "      <th>1</th>\n",
              "      <td>0.204651</td>\n",
              "      <td>0.474419</td>\n",
              "    </tr>\n",
              "  </tbody>\n",
              "</table>\n",
              "</div>"
            ],
            "text/plain": [
              "in_store                     0.0       1.0\n",
              "distance_discontinuity                    \n",
              "0                       0.200000  0.120930\n",
              "1                       0.204651  0.474419"
            ]
          },
          "execution_count": 34,
          "metadata": {},
          "output_type": "execute_result"
        }
      ],
      "source": [
        "# TODO: check if discontinuity design is fuzzy or sharp (pd.crosstab may be useful)\n",
        "pd.crosstab(df_rdd['distance_discontinuity'],df_rdd['in_store'],normalize='all')"
      ]
    },
    {
      "attachments": {},
      "cell_type": "markdown",
      "id": "6ahs0VP5JKVf",
      "metadata": {
        "id": "6ahs0VP5JKVf"
      },
      "source": [
        "Since compliance is not perfect, we have a fuzzy discontinuity point. We will need to use `distance_discontinuity` as an instrument and therefore need it to satisfy random assignment, strong first stage, and exclusion restriction.\n",
        "\n",
        "Ask yourself if you think this instrument is randomly assigned and if it satisfies the exclusion restriction assumption."
      ]
    },
    {
      "attachments": {},
      "cell_type": "markdown",
      "id": "zsWsUJ-ADzIh",
      "metadata": {
        "id": "zsWsUJ-ADzIh"
      },
      "source": [
        "## B. Check for Selection and Balance Near the Discontinuity\n",
        "\n",
        "Check the distribution of some of the controls you included in `df_rdd` on the treated and control populations (based on `distance_discontinuity`).\n",
        "\n",
        "Do they seem balanced, or is there selection at the threshold on observable variables?"
      ]
    },
    {
      "cell_type": "code",
      "execution_count": 35,
      "id": "7238444c",
      "metadata": {},
      "outputs": [
        {
          "data": {
            "text/html": [
              "<div>\n",
              "<style scoped>\n",
              "    .dataframe tbody tr th:only-of-type {\n",
              "        vertical-align: middle;\n",
              "    }\n",
              "\n",
              "    .dataframe tbody tr th {\n",
              "        vertical-align: top;\n",
              "    }\n",
              "\n",
              "    .dataframe thead th {\n",
              "        text-align: right;\n",
              "    }\n",
              "</style>\n",
              "<table border=\"1\" class=\"dataframe\">\n",
              "  <thead>\n",
              "    <tr style=\"text-align: right;\">\n",
              "      <th></th>\n",
              "      <th>customer_id</th>\n",
              "      <th>age</th>\n",
              "      <th>income</th>\n",
              "      <th>distance</th>\n",
              "      <th>distance_discontinuity</th>\n",
              "      <th>tx_order</th>\n",
              "      <th>amount</th>\n",
              "      <th>in_store</th>\n",
              "    </tr>\n",
              "  </thead>\n",
              "  <tbody>\n",
              "    <tr>\n",
              "      <th>0</th>\n",
              "      <td>151</td>\n",
              "      <td>46</td>\n",
              "      <td>117132</td>\n",
              "      <td>11.862044</td>\n",
              "      <td>1</td>\n",
              "      <td>2.0</td>\n",
              "      <td>75.583341</td>\n",
              "      <td>1.0</td>\n",
              "    </tr>\n",
              "    <tr>\n",
              "      <th>1</th>\n",
              "      <td>167</td>\n",
              "      <td>18</td>\n",
              "      <td>51219</td>\n",
              "      <td>14.080104</td>\n",
              "      <td>1</td>\n",
              "      <td>6.0</td>\n",
              "      <td>80.645338</td>\n",
              "      <td>1.0</td>\n",
              "    </tr>\n",
              "    <tr>\n",
              "      <th>2</th>\n",
              "      <td>326</td>\n",
              "      <td>28</td>\n",
              "      <td>156992</td>\n",
              "      <td>15.980915</td>\n",
              "      <td>0</td>\n",
              "      <td>0.0</td>\n",
              "      <td>92.432780</td>\n",
              "      <td>0.0</td>\n",
              "    </tr>\n",
              "    <tr>\n",
              "      <th>3</th>\n",
              "      <td>364</td>\n",
              "      <td>77</td>\n",
              "      <td>142171</td>\n",
              "      <td>13.324512</td>\n",
              "      <td>1</td>\n",
              "      <td>2.0</td>\n",
              "      <td>73.368649</td>\n",
              "      <td>0.0</td>\n",
              "    </tr>\n",
              "    <tr>\n",
              "      <th>4</th>\n",
              "      <td>442</td>\n",
              "      <td>72</td>\n",
              "      <td>138872</td>\n",
              "      <td>13.237335</td>\n",
              "      <td>1</td>\n",
              "      <td>0.0</td>\n",
              "      <td>72.147775</td>\n",
              "      <td>1.0</td>\n",
              "    </tr>\n",
              "  </tbody>\n",
              "</table>\n",
              "</div>"
            ],
            "text/plain": [
              "   customer_id  age  income   distance  distance_discontinuity  tx_order  \\\n",
              "0          151   46  117132  11.862044                       1       2.0   \n",
              "1          167   18   51219  14.080104                       1       6.0   \n",
              "2          326   28  156992  15.980915                       0       0.0   \n",
              "3          364   77  142171  13.324512                       1       2.0   \n",
              "4          442   72  138872  13.237335                       1       0.0   \n",
              "\n",
              "      amount  in_store  \n",
              "0  75.583341       1.0  \n",
              "1  80.645338       1.0  \n",
              "2  92.432780       0.0  \n",
              "3  73.368649       0.0  \n",
              "4  72.147775       1.0  "
            ]
          },
          "execution_count": 35,
          "metadata": {},
          "output_type": "execute_result"
        }
      ],
      "source": [
        "df_rdd.head()"
      ]
    },
    {
      "cell_type": "code",
      "execution_count": 36,
      "id": "cTIJZuePD07F",
      "metadata": {
        "id": "cTIJZuePD07F"
      },
      "outputs": [
        {
          "data": {
            "text/html": [
              "<div>\n",
              "<style scoped>\n",
              "    .dataframe tbody tr th:only-of-type {\n",
              "        vertical-align: middle;\n",
              "    }\n",
              "\n",
              "    .dataframe tbody tr th {\n",
              "        vertical-align: top;\n",
              "    }\n",
              "\n",
              "    .dataframe thead th {\n",
              "        text-align: right;\n",
              "    }\n",
              "</style>\n",
              "<table border=\"1\" class=\"dataframe\">\n",
              "  <thead>\n",
              "    <tr style=\"text-align: right;\">\n",
              "      <th></th>\n",
              "      <th>age</th>\n",
              "      <th>income</th>\n",
              "      <th>distance</th>\n",
              "      <th>amount</th>\n",
              "    </tr>\n",
              "    <tr>\n",
              "      <th>distance_discontinuity</th>\n",
              "      <th></th>\n",
              "      <th></th>\n",
              "      <th></th>\n",
              "      <th></th>\n",
              "    </tr>\n",
              "  </thead>\n",
              "  <tbody>\n",
              "    <tr>\n",
              "      <th>0</th>\n",
              "      <td>47.840580</td>\n",
              "      <td>145054.000000</td>\n",
              "      <td>16.641222</td>\n",
              "      <td>79.272018</td>\n",
              "    </tr>\n",
              "    <tr>\n",
              "      <th>1</th>\n",
              "      <td>49.123288</td>\n",
              "      <td>126475.047945</td>\n",
              "      <td>12.796343</td>\n",
              "      <td>69.017564</td>\n",
              "    </tr>\n",
              "  </tbody>\n",
              "</table>\n",
              "</div>"
            ],
            "text/plain": [
              "                              age         income   distance     amount\n",
              "distance_discontinuity                                                \n",
              "0                       47.840580  145054.000000  16.641222  79.272018\n",
              "1                       49.123288  126475.047945  12.796343  69.017564"
            ]
          },
          "execution_count": 36,
          "metadata": {},
          "output_type": "execute_result"
        }
      ],
      "source": [
        "# TODO: check for covariate balance above and below threshold\n",
        "\n",
        "df_rdd.groupby('distance_discontinuity').agg({\n",
        "        'age': 'mean',\n",
        "        'income': 'mean',\n",
        "        'distance': 'mean',\n",
        "        'amount': 'mean'\n",
        "})"
      ]
    },
    {
      "cell_type": "code",
      "execution_count": 37,
      "id": "bccb09c6",
      "metadata": {},
      "outputs": [
        {
          "data": {
            "text/html": [
              "<div>\n",
              "<style scoped>\n",
              "    .dataframe tbody tr th:only-of-type {\n",
              "        vertical-align: middle;\n",
              "    }\n",
              "\n",
              "    .dataframe tbody tr th {\n",
              "        vertical-align: top;\n",
              "    }\n",
              "\n",
              "    .dataframe thead th {\n",
              "        text-align: right;\n",
              "    }\n",
              "</style>\n",
              "<table border=\"1\" class=\"dataframe\">\n",
              "  <thead>\n",
              "    <tr style=\"text-align: right;\">\n",
              "      <th></th>\n",
              "      <th>customer_id</th>\n",
              "    </tr>\n",
              "    <tr>\n",
              "      <th>distance_discontinuity</th>\n",
              "      <th></th>\n",
              "    </tr>\n",
              "  </thead>\n",
              "  <tbody>\n",
              "    <tr>\n",
              "      <th>0</th>\n",
              "      <td>69</td>\n",
              "    </tr>\n",
              "    <tr>\n",
              "      <th>1</th>\n",
              "      <td>146</td>\n",
              "    </tr>\n",
              "  </tbody>\n",
              "</table>\n",
              "</div>"
            ],
            "text/plain": [
              "                        customer_id\n",
              "distance_discontinuity             \n",
              "0                                69\n",
              "1                               146"
            ]
          },
          "execution_count": 37,
          "metadata": {},
          "output_type": "execute_result"
        }
      ],
      "source": [
        "df_rdd.groupby('distance_discontinuity').agg({\n",
        "    'customer_id': 'count'\n",
        "})"
      ]
    },
    {
      "attachments": {},
      "cell_type": "markdown",
      "id": "QUZoCtKNEwNX",
      "metadata": {
        "id": "QUZoCtKNEwNX"
      },
      "source": [
        "Also check for balance in the count of observations near the threshold to see if people have agency on whether they were treated or not. Do the populations above and below seem balanced?\n",
        "\n",
        "If they are not balanced, do you think this is a sign that people can manipulate where they live in order to impact their chances of getting a coupon?\n",
        "\n",
        "(Think about if someone would choose where to live in order to get a coupon and if the treatment is therefore impacted by choices people make or not. In causal inference we often can't blindly apply statistical tests and need to consider the context they are operating in too!)"
      ]
    },
    {
      "cell_type": "code",
      "execution_count": 38,
      "id": "2tlb0TNNE9V-",
      "metadata": {
        "id": "2tlb0TNNE9V-"
      },
      "outputs": [
        {
          "data": {
            "image/png": "[encoded data removed]",
            "text/plain": [
              "<Figure size 432x288 with 1 Axes>"
            ]
          },
          "metadata": {},
          "output_type": "display_data"
        }
      ],
      "source": [
        "# TODO: check for observation balance above and below threshold (sns.histplot may be useful)\n",
        "plt.hist(df_rdd['distance'],bins=20)\n",
        "plt.axvline(x = 15, color = 'orange', linestyle = '-')\n",
        "plt.show()"
      ]
    },
    {
      "attachments": {},
      "cell_type": "markdown",
      "id": "5rHYhhFuD1Pq",
      "metadata": {
        "id": "5rHYhhFuD1Pq"
      },
      "source": [
        "## C. Graph the Regression Discontinuity\n",
        "\n",
        "Graph the data using the rdplot function from the rdrobust package. Remember to create a distance variable that is centered at 0 or specify the c argument in the rdplot function."
      ]
    },
    {
      "cell_type": "code",
      "execution_count": 39,
      "id": "Cbw9a8Y_D2Wg",
      "metadata": {
        "id": "Cbw9a8Y_D2Wg"
      },
      "outputs": [
        {
          "data": {
            "image/png": "[encoded data removed]",
            "text/plain": [
              "<Figure size 432x288 with 1 Axes>"
            ]
          },
          "metadata": {},
          "output_type": "display_data"
        }
      ],
      "source": [
        "# TODO: graph regression discontinuity data\n",
        "# I am using matplotlib instead of seaborn because i having some crappy version compatibility - a little too lazy to fix it\n",
        "#to centered it at zero, i must subtract 15 from the original value\n",
        "plt.hist(df_rdd['distance'] - 15, bins=20)\n",
        "plt.axvline(x = 0, color = 'orange', linestyle = '-')\n",
        "plt.show()"
      ]
    },
    {
      "cell_type": "code",
      "execution_count": 40,
      "id": "e74c46c3",
      "metadata": {},
      "outputs": [
        {
          "data": {
            "image/png": "[encoded data removed]",
            "text/plain": [
              "<Figure size 640x480 with 1 Axes>"
            ]
          },
          "metadata": {},
          "output_type": "display_data"
        },
        {
          "name": "stdout",
          "output_type": "stream",
          "text": [
            "\n",
            "Call: rdplot\n",
            "Number of Observations:                   215\n",
            "Kernel:                               Uniform\n",
            "Polynomial Order Est. (p):                  4\n",
            "\n",
            "                                Left      Right\n",
            "------------------------------------------------\n",
            "Number of Observations           146         69\n",
            "Number of Effective Obs          146         69\n",
            "Bandwith poly. fit (h)         3.986      3.982\n",
            "Number of bins scale               1          1\n",
            "Bins Selected                      6          6\n",
            "Average Bin Length             0.664      0.664\n",
            "Median Bin Length              0.664      0.664\n",
            "IMSE-optimal bins                6.0        3.0\n",
            "Mimicking Variance bins          6.0        6.0\n",
            "\n",
            "Relative to IMSE-optimal:\n",
            "Implied scale                    1.0        2.0\n",
            "WIMSE variance weight            0.5      0.111\n",
            "WIMSE bias weight                0.5      0.889\n"
          ]
        },
        {
          "data": {
            "text/plain": []
          },
          "execution_count": 40,
          "metadata": {},
          "output_type": "execute_result"
        }
      ],
      "source": [
        "df_rdd['distance_centered'] = df_rdd['distance'] - 15\n",
        "rdplot(y=df_rdd['amount'], x=df_rdd['distance_centered'], x_label='Distance from the Store', y_label='Amount')"
      ]
    },
    {
      "attachments": {},
      "cell_type": "markdown",
      "id": "DkmtFIBxD2qS",
      "metadata": {
        "id": "DkmtFIBxD2qS"
      },
      "source": [
        "## D. Fit RDD Models for Causal Effects\n",
        "\n",
        "Now let's fit some regression discontinuity models with and without controls to estimate our causal effect of interest.\n",
        "\n",
        "Remember because this is a fuzzy design we need to use two stage least squares due to the imperfect compliance with treatment. We can either do that using IV regression or with the fuzzy option in the rdrobust function. In Python it seems that the IV regression route is more stable and has lower variance compared to the rdrobust function, so we suggest using IV2SLS instead.\n",
        "\n",
        "What do you conclude from your regression discontinuity analysis? How confident are you in the impact of in store shopping on customer value?"
      ]
    },
    {
      "cell_type": "code",
      "execution_count": 41,
      "id": "8b08b385",
      "metadata": {},
      "outputs": [
        {
          "data": {
            "text/html": [
              "<div>\n",
              "<style scoped>\n",
              "    .dataframe tbody tr th:only-of-type {\n",
              "        vertical-align: middle;\n",
              "    }\n",
              "\n",
              "    .dataframe tbody tr th {\n",
              "        vertical-align: top;\n",
              "    }\n",
              "\n",
              "    .dataframe thead th {\n",
              "        text-align: right;\n",
              "    }\n",
              "</style>\n",
              "<table border=\"1\" class=\"dataframe\">\n",
              "  <thead>\n",
              "    <tr style=\"text-align: right;\">\n",
              "      <th></th>\n",
              "      <th>customer_id</th>\n",
              "      <th>age</th>\n",
              "      <th>income</th>\n",
              "      <th>distance</th>\n",
              "      <th>distance_discontinuity</th>\n",
              "      <th>tx_order</th>\n",
              "      <th>amount</th>\n",
              "      <th>in_store</th>\n",
              "      <th>distance_centered</th>\n",
              "    </tr>\n",
              "  </thead>\n",
              "  <tbody>\n",
              "    <tr>\n",
              "      <th>0</th>\n",
              "      <td>151</td>\n",
              "      <td>46</td>\n",
              "      <td>117132</td>\n",
              "      <td>11.862044</td>\n",
              "      <td>1</td>\n",
              "      <td>2.0</td>\n",
              "      <td>75.583341</td>\n",
              "      <td>1.0</td>\n",
              "      <td>-3.137956</td>\n",
              "    </tr>\n",
              "    <tr>\n",
              "      <th>1</th>\n",
              "      <td>167</td>\n",
              "      <td>18</td>\n",
              "      <td>51219</td>\n",
              "      <td>14.080104</td>\n",
              "      <td>1</td>\n",
              "      <td>6.0</td>\n",
              "      <td>80.645338</td>\n",
              "      <td>1.0</td>\n",
              "      <td>-0.919896</td>\n",
              "    </tr>\n",
              "    <tr>\n",
              "      <th>2</th>\n",
              "      <td>326</td>\n",
              "      <td>28</td>\n",
              "      <td>156992</td>\n",
              "      <td>15.980915</td>\n",
              "      <td>0</td>\n",
              "      <td>0.0</td>\n",
              "      <td>92.432780</td>\n",
              "      <td>0.0</td>\n",
              "      <td>0.980915</td>\n",
              "    </tr>\n",
              "    <tr>\n",
              "      <th>3</th>\n",
              "      <td>364</td>\n",
              "      <td>77</td>\n",
              "      <td>142171</td>\n",
              "      <td>13.324512</td>\n",
              "      <td>1</td>\n",
              "      <td>2.0</td>\n",
              "      <td>73.368649</td>\n",
              "      <td>0.0</td>\n",
              "      <td>-1.675488</td>\n",
              "    </tr>\n",
              "    <tr>\n",
              "      <th>4</th>\n",
              "      <td>442</td>\n",
              "      <td>72</td>\n",
              "      <td>138872</td>\n",
              "      <td>13.237335</td>\n",
              "      <td>1</td>\n",
              "      <td>0.0</td>\n",
              "      <td>72.147775</td>\n",
              "      <td>1.0</td>\n",
              "      <td>-1.762665</td>\n",
              "    </tr>\n",
              "  </tbody>\n",
              "</table>\n",
              "</div>"
            ],
            "text/plain": [
              "   customer_id  age  income   distance  distance_discontinuity  tx_order  \\\n",
              "0          151   46  117132  11.862044                       1       2.0   \n",
              "1          167   18   51219  14.080104                       1       6.0   \n",
              "2          326   28  156992  15.980915                       0       0.0   \n",
              "3          364   77  142171  13.324512                       1       2.0   \n",
              "4          442   72  138872  13.237335                       1       0.0   \n",
              "\n",
              "      amount  in_store  distance_centered  \n",
              "0  75.583341       1.0          -3.137956  \n",
              "1  80.645338       1.0          -0.919896  \n",
              "2  92.432780       0.0           0.980915  \n",
              "3  73.368649       0.0          -1.675488  \n",
              "4  72.147775       1.0          -1.762665  "
            ]
          },
          "execution_count": 41,
          "metadata": {},
          "output_type": "execute_result"
        }
      ],
      "source": [
        "df_rdd.head()"
      ]
    },
    {
      "cell_type": "code",
      "execution_count": 45,
      "id": "4fdNxrQxKq12",
      "metadata": {
        "id": "4fdNxrQxKq12"
      },
      "outputs": [],
      "source": [
        "df_rdd['constant'] = 1\n",
        "\n",
        "# TODO: fit model without controls\n",
        "model3 = IV2SLS(df_rdd[['amount']], df_rdd[['constant', 'in_store']], df_rdd[['constant', 'distance_discontinuity']]).fit()\n",
        "\n",
        "# TODO: fit model with controls\n",
        "model4 = IV2SLS(df_rdd[['amount']], df_rdd[['constant', 'age', 'income', 'distance', 'in_store']], df_rdd[['constant', 'age', 'income', 'distance', 'distance_discontinuity']]).fit()\n",
        "\n"
      ]
    },
    {
      "cell_type": "code",
      "execution_count": 46,
      "id": "gYasEUEKNWID",
      "metadata": {
        "id": "gYasEUEKNWID"
      },
      "outputs": [
        {
          "data": {
            "text/html": [
              "<table style=\"text-align:center\"><tr><td colspan=\"3\" style=\"border-bottom: 1px solid black\"></td></tr><tr><td style=\"text-align:left\"></td><td colspan=\"2\"><em>Dependent variable:amount</em></td></tr><tr><td style=\"text-align:left\"></td><tr><td></td><td colspan=\"1\">IV w/o Controls</td><td colspan=\"1\">IV w/ Controls</td></tr><tr><td style=\"text-align:left\"></td><td>(1)</td><td>(2)</td></tr><tr><td colspan=\"3\" style=\"border-bottom: 1px solid black\"></td></tr><tr><td style=\"text-align:left\">in_store</td><td>-31.864<sup>***</sup></td><td>-0.257<sup></sup></td></tr><tr><td style=\"text-align:left\"></td><td>(12.056)</td><td>(8.608)</td></tr><td colspan=\"3\" style=\"border-bottom: 1px solid black\"></td></tr><tr><td style=\"text-align: left\">Observations</td><td>215</td><td>215</td></tr><tr><td style=\"text-align: left\">R<sup>2</sup></td><td>-1.457</td><td>0.103</td></tr><tr><td style=\"text-align: left\">Adjusted R<sup>2</sup></td><td>-1.469</td><td>0.086</td></tr><tr><td style=\"text-align: left\">Residual Std. Error</td><td>26.558 (df=213)</td><td>16.162 (df=210)</td></tr><tr><td style=\"text-align: left\">F Statistic</td><td>6.985<sup>***</sup> (df=1; 213)</td><td>6.349<sup>***</sup> (df=4; 210)</td></tr><tr><td colspan=\"3\" style=\"border-bottom: 1px solid black\"></td></tr><tr><td style=\"text-align: left\">Note:</td>\n",
              " <td colspan=\"2\" style=\"text-align: right\">\n",
              "  <sup>*</sup>p&lt;0.1;\n",
              "  <sup>**</sup>p&lt;0.05;\n",
              "  <sup>***</sup>p&lt;0.01\n",
              " </td></tr></table>"
            ],
            "text/plain": [
              "<stargazer.stargazer.Stargazer at 0x28bf94a00>"
            ]
          },
          "execution_count": 46,
          "metadata": {},
          "output_type": "execute_result"
        }
      ],
      "source": [
        "# TODO: display final results\n",
        "\n",
        "# If you define the treatment as has an in store transaction, your estimated causal effect should be around 85 for IV2SLS and 185 if you use rdrobust (with a large standard error)\n",
        "# If you define the treatment as count of in store transactions, your estimated causal effect should be around 13 for IV2SLS and 23 if you use rdrobust (with a large standard error)\n",
        "# If you define the treatment as percent of transactions in store, your estimated causal effect should be around 56 for IV2SLS and 109 if you use rdrobust (with a large standard error)\n",
        "\n",
        "stargazer = Stargazer([model3,model4])\n",
        "stargazer.covariate_order(['in_store'])\n",
        "stargazer.custom_columns(['IV w/o Controls', 'IV w/ Controls'], [1, 1])\n",
        "stargazer"
      ]
    },
    {
      "attachments": {},
      "cell_type": "markdown",
      "id": "b76e8161",
      "metadata": {
        "id": "b76e8161"
      },
      "source": [
        "## IV. Consolidate the analysis you performed above so it's useful for a stakeholder\n",
        "***\n",
        "\n",
        "### Congratulations!\n",
        "\n",
        "You've done a ton of incredible work. Now, it's time to package it all together so the VP of In Store Sales can follow along.\n",
        "\n",
        "Again this step often feels like doing an analysis \"in reverse.\" We don't want to step someone through all the logic we just went through to arrive at our answer (as tempting as that might be). We want to share our answer **first,** then help our stakeholders understand it intuitively by sharing visuals and explaining how confident we can be.\n",
        "\n",
        "Here is a set of suggested steps, but feel free to tweak as you see fit:\n",
        "- Share the results from your two main modeling approaches, making sure to put the results in **business terms** (e.g., \"getting an online customer to shop in store boosts the value of a customer by X; if we can convince 100 online customers to shop in person, we can expect between Y and Z in additional lifetime value\")\n",
        "- Show key visuals to help someone grok the relationships intuitively\n",
        "- Comment on our degree of confidence of results between the two approaches and whether they are talking about different populations\n",
        "- Contrast these results with the analysis you presented last week and why it is more or less rigorous in its findings"
      ]
    }
  ],
  "metadata": {
    "colab": {
      "provenance": []
    },
    "kernelspec": {
      "display_name": "Python 3 (ipykernel)",
      "language": "python",
      "name": "python3"
    },
    "language_info": {
      "codemirror_mode": {
        "name": "ipython",
        "version": 3
      },
      "file_extension": ".py",
      "mimetype": "text/x-python",
      "name": "python",
      "nbconvert_exporter": "python",
      "pygments_lexer": "ipython3",
      "version": "3.10.6"
    }
  },
  "nbformat": 4,
  "nbformat_minor": 5
}
